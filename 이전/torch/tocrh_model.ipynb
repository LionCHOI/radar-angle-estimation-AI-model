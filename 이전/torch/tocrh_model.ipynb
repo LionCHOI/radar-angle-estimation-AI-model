{
 "cells": [
  {
   "cell_type": "code",
   "execution_count": 10,
   "metadata": {},
   "outputs": [],
   "source": [
    "import torch \n",
    "import torch.nn as nn\n",
    "\n",
    "import torchvision\n",
    "import torchvision.transforms as transforms\n",
    "\n",
    "from  torchsummary import summary\n",
    "\n",
    "from torch.utils.data import Dataset, DataLoader\n",
    "\n",
    "from tqdm import tqdm\n",
    "import numpy as np\n",
    "import os"
   ]
  },
  {
   "cell_type": "code",
   "execution_count": 11,
   "metadata": {},
   "outputs": [
    {
     "name": "stdout",
     "output_type": "stream",
     "text": [
      "cuda\n"
     ]
    }
   ],
   "source": [
    "USE_CUDA = torch.cuda.is_available()\n",
    "device = torch.device('cuda' if USE_CUDA else \"cpu\")\n",
    "\n",
    "print(device)"
   ]
  },
  {
   "cell_type": "code",
   "execution_count": 12,
   "metadata": {},
   "outputs": [],
   "source": [
    "# 변수 설정\n",
    "BATCH_SIZE = 32\n",
    "EPOCH = 10\n",
    "NUM_CLASS = 121\n",
    "BATCH_MOMENTM = 0.9\n",
    "learning_rate = 0.001\n",
    "\n",
    "# 물체 개수\n",
    "NUM_OBKECT = 2          # 추정할 물체 개수\n",
    "TOLERANCE_ANGLE = 2     # 허용 오차 각도\n",
    "\n",
    "# 학습 여부\n",
    "TRAIN_CHOICE = True\n",
    "\n",
    "# 이전 모델 불러오기\n",
    "checkpoint = None\n",
    "# checkpoint = torch.load('./models/model_origin_target_2.ckpt')"
   ]
  },
  {
   "cell_type": "markdown",
   "metadata": {},
   "source": [
    "### 데이터 불러오기"
   ]
  },
  {
   "cell_type": "code",
   "execution_count": 13,
   "metadata": {},
   "outputs": [
    {
     "name": "stdout",
     "output_type": "stream",
     "text": [
      "(10000, 4, 4)\n",
      "(10000, 121)\n",
      "train size: 8000\n"
     ]
    }
   ],
   "source": [
    "## 물체 2개\n",
    "\n",
    "if NUM_OBKECT == 1:\n",
    "    Rx_sig = np.load('../data/target_1/total_output_COV_1.npy')\n",
    "    angle  = np.load('../data/target_1/total_output_angle_1.npy')\n",
    "\n",
    "    train_size = round(Rx_sig.shape[0]*0.8)\n",
    "    print(f'train size: {train_size}')\n",
    "    \n",
    "elif NUM_OBKECT == 2:\n",
    "    Rx_sig = np.load(f'../data/target_2/output_COV_2(0).npy')\n",
    "    angle  = np.load(f'../data/target_2/output_angle_array_2(0).npy')\n",
    "\n",
    "    for idx in range(1, 71):\n",
    "        Rx_sig_tmp = np.load(f'../data/target_2/output_COV_2({idx}).npy')\n",
    "        angle_tmp  = np.load(f'../data/target_2/output_angle_array_2({idx}).npy')\n",
    "\n",
    "        Rx_sig = np.concatenate((Rx_sig, Rx_sig_tmp))\n",
    "        angle = np.concatenate((angle, angle_tmp))\n",
    "\n",
    "    print(Rx_sig.shape)\n",
    "    print(angle.shape)\n",
    "\n",
    "    train_size = round(Rx_sig.shape[0]*0.8)\n",
    "    print(f'train size: {train_size}')"
   ]
  },
  {
   "cell_type": "code",
   "execution_count": 14,
   "metadata": {},
   "outputs": [],
   "source": [
    "# import train data\n",
    "x_train = np.array([[np.real(Rxx), np.imag(Rxx), np.angle(Rxx)] for Rxx in Rx_sig[:train_size]])\n",
    "y_train = angle[:train_size]\n",
    "\n",
    "# import valid data\n",
    "x_valid = np.array([[np.real(Rxx), np.imag(Rxx), np.angle(Rxx)] for Rxx in Rx_sig[train_size:]])\n",
    "y_valid = angle[train_size:]\n",
    "\n",
    "# import test data\n",
    "x_test = np.array([[np.real(Rxx), np.imag(Rxx), np.angle(Rxx)] for Rxx in Rx_sig[train_size:]])\n",
    "y_test = angle[train_size:]\n",
    "\n",
    "# y_test size transition\n",
    "test_size = len(y_test)                     # 총 크기\n",
    "find_num = len(np.where(y_test[0]== 1)[0])  # 찾아야 하는 물체의 개수\n",
    "\n",
    "y_test_tmp = np.zeros((y_test.shape[0], find_num))\n",
    "for idx, data in enumerate(y_test):\n",
    "  \n",
    "    y_test_tmp[idx] = np.where(data== 1)[0]\n",
    "\n",
    "y_test = y_test_tmp\n",
    "\n",
    "class MyDataset(Dataset):\n",
    "  def __init__(self, data, label):\n",
    "    self.data = torch.Tensor(data).type(torch.float)\n",
    "    self.label = torch.Tensor(label)\n",
    "\n",
    "  def __len__(self, ):\n",
    "    return self.data.shape[0]\n",
    "\n",
    "  def __getitem__(self, index):\n",
    "    return self.data[index], self.label[index]"
   ]
  },
  {
   "cell_type": "code",
   "execution_count": 15,
   "metadata": {},
   "outputs": [],
   "source": [
    "train_set = MyDataset(x_train, y_train)\n",
    "valid_set = MyDataset(x_valid, y_valid)\n",
    "test_set = MyDataset(x_test, y_test)\n",
    "\n",
    "train_loader = DataLoader(dataset=train_set, batch_size=BATCH_SIZE, shuffle = True)\n",
    "valid_loader = DataLoader(dataset=valid_set, batch_size=BATCH_SIZE, shuffle = True)\n",
    "test_loader = DataLoader(dataset=test_set, batch_size=BATCH_SIZE, shuffle = True)"
   ]
  },
  {
   "cell_type": "code",
   "execution_count": 16,
   "metadata": {},
   "outputs": [],
   "source": [
    "class ConvNet(nn.Module):\n",
    "    def __init__(self):\n",
    "        super(ConvNet, self).__init__()\n",
    "    \n",
    "        self.layer1 = nn.Sequential(\n",
    "            nn.Conv2d(3, 256, kernel_size=3, stride=1, padding=1),\n",
    "            nn.BatchNorm2d(256, momentum=BATCH_MOMENTM),\n",
    "            nn.ReLU())\n",
    "        \n",
    "        self.layer2 = nn.Sequential(\n",
    "            nn.Conv2d(256, 256, kernel_size=3, stride=1, padding=1),\n",
    "            nn.BatchNorm2d(256, momentum=BATCH_MOMENTM),\n",
    "            nn.ReLU())\n",
    "        \n",
    "        self.layer3 = nn.Sequential(\n",
    "            nn.Conv2d(256, 256, kernel_size=3, stride=1, padding=1),\n",
    "            nn.BatchNorm2d(256, momentum=BATCH_MOMENTM),\n",
    "            nn.ReLU())\n",
    "        \n",
    "        self.layer4 = nn.Sequential(\n",
    "            nn.Conv2d(256, 256, kernel_size=3, stride=1, padding=1),\n",
    "            nn.BatchNorm2d(256, momentum=BATCH_MOMENTM),\n",
    "            nn.ReLU())\n",
    "        \n",
    "        self.fc1 = nn.Sequential(\n",
    "            nn.Linear(4*4*256, 4096),\n",
    "            nn.ReLU(),\n",
    "            nn.Dropout(0.5)\n",
    "        )\n",
    "        \n",
    "        self.fc2 = nn.Sequential(\n",
    "            nn.Linear(4096, 2048),\n",
    "            nn.ReLU(),\n",
    "            nn.Dropout(0.5)\n",
    "        )\n",
    "                \n",
    "        self.fc3 = nn.Sequential(\n",
    "            nn.Linear(2048, 1024),\n",
    "            nn.ReLU(),\n",
    "            nn.Dropout(0.5)\n",
    "        )\n",
    "        \n",
    "        self.fc4 = nn.Sequential(\n",
    "            nn.Linear(1024, NUM_CLASS),\n",
    "            nn.Sigmoid()   # 이렇게 바꾸면 Binary Cross entropy를 못쓴다.\n",
    "        )\n",
    "        \n",
    "    def forward(self, x):\n",
    "        out = self.layer1(x)\n",
    "        out = self.layer2(out)\n",
    "        out = self.layer3(out)\n",
    "        out = self.layer4(out)\n",
    "        out = out.reshape(out.size(0), -1)\n",
    "        \n",
    "        out = self.fc1(out)\n",
    "        out = self.fc2(out)\n",
    "        out = self.fc3(out)\n",
    "        out = self.fc4(out)\n",
    "        \n",
    "        return out\n",
    "    "
   ]
  },
  {
   "cell_type": "code",
   "execution_count": 17,
   "metadata": {},
   "outputs": [],
   "source": [
    "# 모델 직접 저장 예시\n",
    "model = ConvNet().to(device)\n",
    "\n",
    "if checkpoint:\n",
    "    model.load_state_dict(checkpoint)\n",
    "\n",
    "criterion = nn.BCELoss()\n",
    "optimizer = torch.optim.Adam(model.parameters(), lr=0.001, betas=[0.9, 0.999])"
   ]
  },
  {
   "cell_type": "code",
   "execution_count": 18,
   "metadata": {},
   "outputs": [
    {
     "name": "stderr",
     "output_type": "stream",
     "text": [
      "                                                                                       \r"
     ]
    },
    {
     "name": "stdout",
     "output_type": "stream",
     "text": [
      "Epoch [1/1], Step [250/250], Loss: 0.0953\n"
     ]
    }
   ],
   "source": [
    "if TRAIN_CHOICE is True:\n",
    "    # Train the model\n",
    "    total_train_step = len(train_loader)\n",
    "    total_valid_step = len(valid_loader)\n",
    "\n",
    "    total_train_loss, total_valid_loss = [], []\n",
    "    for epoch in range(EPOCH):\n",
    "        train_loss, val_loss = 0, 0\n",
    "        train_tqdm = tqdm(train_loader, total=len(train_loader), leave=False)\n",
    "        \n",
    "        model.train()\n",
    "        for i, (x_train, y_train) in enumerate(train_tqdm, 1):\n",
    "            x_train = x_train.to(device)\n",
    "            y_train = y_train.to(device)\n",
    "            \n",
    "            # Forward pass\n",
    "            outputs = model(x_train)\n",
    "            loss = criterion(outputs, y_train)\n",
    "            \n",
    "            # Backward and optimize\n",
    "            optimizer.zero_grad()\n",
    "            loss.backward()\n",
    "            train_loss += loss.item()\n",
    "            optimizer.step()\n",
    "            \n",
    "            train_tqdm.set_description(desc=f'Training Loss on Epoch [{epoch+1}/{EPOCH}]: {train_loss / i: .3f}')\n",
    "            \n",
    "        with torch.no_grad():\n",
    "            for k, (x_valid, y_valid) in enumerate(valid_loader):  # data의 크기를 bath_size 만큼 나눈 것을 반복한다.\n",
    "                x_valid = x_valid.to(device)\n",
    "                y_valid = y_valid.to(device)\n",
    "                \n",
    "                val_output = model.forward(x_valid)\n",
    "                v_loss = criterion(val_output, y_valid)\n",
    "                val_loss += v_loss.item()\n",
    "            \n",
    "        total_train_loss.append(train_loss/total_train_step)\n",
    "        total_valid_loss.append(val_loss/total_valid_step)\n",
    "        \n",
    "        print ('Epoch [{}/{}], Step [{}/{}], Loss: {:.4f}'\n",
    "            .format(epoch+1, EPOCH, i, total_train_step, train_loss/total_train_step))"
   ]
  },
  {
   "cell_type": "code",
   "execution_count": 19,
   "metadata": {},
   "outputs": [
    {
     "name": "stdout",
     "output_type": "stream",
     "text": [
      "Test Accuracy of the model on the 2000 test images: 16.95 %\n"
     ]
    }
   ],
   "source": [
    "def mapping_val(pred, test):\n",
    "    pred_list, test_list = list(pred), list(test)\n",
    "    mapping_list = []\n",
    "    \n",
    "    for val_test in test_list:\n",
    "        min_val = float('inf')\n",
    "        \n",
    "        for val_pred in pred_list:\n",
    "            result = abs(val_test - val_pred)\n",
    "            \n",
    "            if result < min_val:\n",
    "                min_val = result\n",
    "                mapping_val = val_pred\n",
    "                \n",
    "        mapping_list.append(abs(val_test - mapping_val))\n",
    "        pred_list.remove(mapping_val)\n",
    "    \n",
    "    return mapping_list\n",
    "\n",
    "# Test the model\n",
    "model.eval()  # eval mode (batchnorm uses moving mean/variance instead of mini-batch mean/variance)\n",
    "with torch.no_grad():\n",
    "    correct, total = 0, 0\n",
    "\n",
    "    for x_test, y_test in test_loader:\n",
    "        x_test = x_test.to(device)\n",
    "        y_test = y_test\n",
    "        outputs = model(x_test)\n",
    "        \n",
    "        # 총 물체 개수\n",
    "        total += y_test.size(0) * find_num\n",
    "        \n",
    "        # 찾아야 하는 물체의 index 추출\n",
    "        results = map(lambda matrix: torch.topk(matrix, k=find_num, largest=True), outputs) \n",
    "        predicted = torch.tensor([list(map(lambda x: x.item(), indices)) for _, indices in results]) \n",
    "        \n",
    "        # 추정 알고리즘\n",
    "        result = np.array(list((map(mapping_val, predicted, y_test))))\n",
    "        correct += (result <= TOLERANCE_ANGLE).sum()\n",
    " \n",
    "    print('Test Accuracy of the model on the {} test images: {} %'.format(test_size, 100 * correct / total))\n",
    "    \n",
    "# Save the model checkpoint\n",
    "if TRAIN_CHOICE is True:\n",
    "    if not os.path.exists('./models/'):\n",
    "        os.makedirs('./models/')\n",
    "    torch.save(model.state_dict(), './models/model.ckpt')"
   ]
  },
  {
   "cell_type": "code",
   "execution_count": 20,
   "metadata": {},
   "outputs": [
    {
     "data": {
      "image/png": "[encoded data removed]",
      "text/plain": [
       "<Figure size 600x400 with 1 Axes>"
      ]
     },
     "metadata": {},
     "output_type": "display_data"
    }
   ],
   "source": [
    "import matplotlib.pyplot as plt\n",
    "\n",
    "## save fig\n",
    "if TRAIN_CHOICE is True:\n",
    "    plt.figure(figsize=(6, 4))\n",
    "    plt.plot(list(range(EPOCH)), total_train_loss)\n",
    "    plt.plot(list(range(EPOCH)), total_valid_loss)\n",
    "    plt.title('Model loss')\n",
    "    plt.ylabel('Loss')\n",
    "    plt.xlabel('Epoch')\n",
    "    plt.grid()"
   ]
  }
 ],
 "metadata": {
  "kernelspec": {
   "display_name": "cuda",
   "language": "python",
   "name": "python3"
  },
  "language_info": {
   "codemirror_mode": {
    "name": "ipython",
    "version": 3
   },
   "file_extension": ".py",
   "mimetype": "text/x-python",
   "name": "python",
   "nbconvert_exporter": "python",
   "pygments_lexer": "ipython3",
   "version": "3.8.17"
  }
 },
 "nbformat": 4,
 "nbformat_minor": 2
}
