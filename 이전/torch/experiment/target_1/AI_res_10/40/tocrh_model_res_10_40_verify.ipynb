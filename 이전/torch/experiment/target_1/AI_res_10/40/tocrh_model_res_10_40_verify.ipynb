{
 "cells": [
  {
   "cell_type": "markdown",
   "metadata": {},
   "source": [
    "## 해상도 10, -40 ~ 40"
   ]
  },
  {
   "cell_type": "markdown",
   "metadata": {},
   "source": [
    "### package 불러오기 (환경 설정)"
   ]
  },
  {
   "cell_type": "code",
   "execution_count": 1,
   "metadata": {},
   "outputs": [],
   "source": [
    "import torch \n",
    "import torch.nn as nn\n",
    "from torch.utils.data import Dataset, DataLoader\n",
    "\n",
    "from tqdm import tqdm\n",
    "import numpy as np"
   ]
  },
  {
   "cell_type": "markdown",
   "metadata": {},
   "source": [
    "### 변수 설정"
   ]
  },
  {
   "cell_type": "code",
   "execution_count": 2,
   "metadata": {},
   "outputs": [
    {
     "name": "stdout",
     "output_type": "stream",
     "text": [
      "9\n"
     ]
    }
   ],
   "source": [
    "# 변수 설정\n",
    "BATCH_SIZE = 40\n",
    "BATCH_MOMENTM = 0.9\n",
    "EPOCH = 5\n",
    "MIN_ANGLE, MAX_ANGLE, RESOLUTION = -40, 40, 10\n",
    "NUM_CLASS = (MAX_ANGLE-MIN_ANGLE) // RESOLUTION + 1\n",
    "\n",
    "print(NUM_CLASS)\n",
    "\n",
    "device = torch.device('cuda' if torch.cuda.is_available() else \"cpu\")"
   ]
  },
  {
   "cell_type": "markdown",
   "metadata": {},
   "source": [
    "### 데이터 셋 및 모델 설정"
   ]
  },
  {
   "cell_type": "markdown",
   "metadata": {},
   "source": [
    "#### 데이터 셋 설정"
   ]
  },
  {
   "cell_type": "code",
   "execution_count": 3,
   "metadata": {},
   "outputs": [],
   "source": [
    "class RadarDataset(Dataset):\n",
    "  def __init__(self, transform, data, label):\n",
    "    super(RadarDataset, self).__init__()\n",
    "    self.transform = transform\n",
    "    self.label = self.transform(label)\n",
    "    self.data = self.transform(data).type(torch.float)\n",
    "\n",
    "  def __len__(self, ):\n",
    "    return self.data.shape[0]\n",
    "\n",
    "  def __getitem__(self, index):   \n",
    "    return self.data[index], self.label[index]\n"
   ]
  },
  {
   "cell_type": "markdown",
   "metadata": {},
   "source": [
    "#### 모델 설정"
   ]
  },
  {
   "cell_type": "code",
   "execution_count": 4,
   "metadata": {},
   "outputs": [],
   "source": [
    "class ConvNet(nn.Module):\n",
    "    def __init__(self):\n",
    "        super(ConvNet, self).__init__()\n",
    "    \n",
    "        self.layer1 = nn.Sequential(\n",
    "            nn.Conv2d(3, 256, kernel_size=3, stride=1, padding=1),\n",
    "            nn.BatchNorm2d(256, momentum=BATCH_MOMENTM),\n",
    "            nn.ReLU())\n",
    "        \n",
    "        self.layer2 = nn.Sequential(\n",
    "            nn.Conv2d(256, 256, kernel_size=3, stride=1, padding=1),\n",
    "            nn.BatchNorm2d(256, momentum=BATCH_MOMENTM),\n",
    "            nn.ReLU())\n",
    "        \n",
    "        self.layer3 = nn.Sequential(\n",
    "            nn.Conv2d(256, 256, kernel_size=3, stride=1, padding=1),\n",
    "            nn.BatchNorm2d(256, momentum=BATCH_MOMENTM),\n",
    "            nn.ReLU())\n",
    "        \n",
    "        self.layer4 = nn.Sequential(\n",
    "            nn.Conv2d(256, 256, kernel_size=3, stride=1, padding=1),\n",
    "            nn.BatchNorm2d(256, momentum=BATCH_MOMENTM),\n",
    "            nn.ReLU())\n",
    "        \n",
    "        self.fc1 = nn.Sequential(\n",
    "            nn.Linear(4*4*256, 4096),\n",
    "            nn.ReLU(),\n",
    "            nn.Dropout(0.5)\n",
    "        )\n",
    "        \n",
    "        self.fc2 = nn.Sequential(\n",
    "            nn.Linear(4096, 2048),\n",
    "            nn.ReLU(),\n",
    "            nn.Dropout(0.5)\n",
    "        )\n",
    "                \n",
    "        self.fc3 = nn.Sequential(\n",
    "            nn.Linear(2048, 1024),\n",
    "            nn.ReLU(),\n",
    "            nn.Dropout(0.5)\n",
    "        )\n",
    "        \n",
    "        self.fc4 = nn.Sequential(\n",
    "            nn.Linear(1024, NUM_CLASS),\n",
    "            nn.ReLU()\n",
    "        )\n",
    "        \n",
    "    def forward(self, x):\n",
    "        out = self.layer1(x)\n",
    "        out = self.layer2(out)\n",
    "        out = self.layer3(out)\n",
    "        out = self.layer4(out)\n",
    "        out = out.reshape(out.size(0), -1)\n",
    "        \n",
    "        out = self.fc1(out)\n",
    "        out = self.fc2(out)\n",
    "        out = self.fc3(out)\n",
    "        out = self.fc4(out)\n",
    "        \n",
    "        return out"
   ]
  },
  {
   "cell_type": "markdown",
   "metadata": {},
   "source": [
    "### 학습된 모델 불러오기"
   ]
  },
  {
   "cell_type": "code",
   "execution_count": 9,
   "metadata": {},
   "outputs": [
    {
     "data": {
      "text/plain": [
       "<All keys matched successfully>"
      ]
     },
     "execution_count": 9,
     "metadata": {},
     "output_type": "execute_result"
    }
   ],
   "source": [
    "model = ConvNet().to(device)\n",
    "model.load_state_dict(torch.load(f'./model_{RESOLUTION}_{MAX_ANGLE}.ckpt'))"
   ]
  },
  {
   "cell_type": "markdown",
   "metadata": {},
   "source": [
    "### 실험 데이터 불러오기"
   ]
  },
  {
   "cell_type": "code",
   "execution_count": 10,
   "metadata": {},
   "outputs": [],
   "source": [
    "Rx_sig = np.load('../../data/0/output_COV_0.npy')\n",
    "angle = np.load('../../data/0/output_angle_0.npy')\n",
    "\n",
    "x_test = np.array([[(np.real(Rxx)), (np.imag(Rxx)), ((np.angle(Rxx)))] for Rxx in Rx_sig])\n",
    "x_test_torch= torch.from_numpy(x_test).type(torch.float).to(device)\n",
    "y_test = angle.astype(int)"
   ]
  },
  {
   "cell_type": "markdown",
   "metadata": {},
   "source": [
    "### 실험 데이터 검증"
   ]
  },
  {
   "cell_type": "code",
   "execution_count": 11,
   "metadata": {},
   "outputs": [],
   "source": [
    "def cal_mapping_val(pred, test):\n",
    "    pred_list, test_list = list(pred), list(test)\n",
    "    mapping_list, mapping_val = [], []\n",
    "    \n",
    "    for val_test in test_list:\n",
    "        min_val = float('inf')\n",
    "        \n",
    "        for val_pred in pred_list:\n",
    "            result = abs(val_test - val_pred)\n",
    "            \n",
    "            if result < min_val:\n",
    "                min_val = result\n",
    "                mapping_val = val_pred\n",
    "                \n",
    "        mapping_list.append(abs(val_test - mapping_val))\n",
    "        pred_list.remove(mapping_val)\n",
    "    \n",
    "    return mapping_list"
   ]
  },
  {
   "cell_type": "code",
   "execution_count": 12,
   "metadata": {},
   "outputs": [
    {
     "name": "stdout",
     "output_type": "stream",
     "text": [
      "----------------percent-----------------\n",
      "5.1\n",
      "\n",
      "------------------data------------------\n",
      "predict\n",
      "[ 0  0  0  0  0  0  0  0  0  0  0  0  0  0  0  0  0  0  0  0  0  0  0  0\n",
      "  0  0  0  0  0  0  0  0  0  0  0  0  0  0  0  0  0  0  0  0  0  0  0  0\n",
      "  0  0  0  0  0  0  0  0  0  0  0  0  0  0  0  0  0  0  0  0  0  0  0  0\n",
      "  0  0  0  0  0  0  0  0  0  0  0  0  0  0  0  0  0  0  0  0  0  0  0  0\n",
      "  0  0  0  0  0  0  0  0  0  0  0  0  0  0  0  0  0  0  0  0  0  0  0  0\n",
      "  0  0  0  0  0  0  0  0  0  0  0  0  0  0  0  0  0  0  0  0  0  0  0  0\n",
      "  0  0  0  0  0  0  0  0  0  0  0  0  0  0  0  0  0  0  0  0  0  0  0  0\n",
      "  0  0  0  0  0  0  0  0  0  0  0  0  0  0  0  0  0  0  0  0  0  0  0  0\n",
      "  0  0  0  0  0  0  0  0  0  0  0  0  0  0  0  0  0  0  0  0  0  0  0  0\n",
      "  0  0  0  0  0  0  0  0  0  0  0  0  0  0  0  0  0  0  0  0  0  0  0  0\n",
      "  0  0  0  0  0  0  0  0  0  0  0  0  0  0  0  0  0  0  0  0  0  0  0  0\n",
      "  0  0  0  0  0  0  0  0  0  0  0  0  0  0  0  0  0  0  0  0  0  0  0  0\n",
      "  0  0  0  0  0  0  0  0  0  0  0  0  0  0  0  0  0  0  0  0  0  0  0  0\n",
      "  0  0  0  0  0  0  0  0  0  0  0  0  0  0  0  0  0  0  0  0  0  0  0  0\n",
      "  0  0  0  0  0  0  0  0  0  0  0  0  0  0  0  0  0  0  0  0  0  0  0  0\n",
      "  0  0  0  0  0  0  0  0  0  0  0  0  0  0  0  0  0  0  0  0  0  0  0  0\n",
      "  0  0  0  0  0  0  0  0  0  0  0  0  0  0  0  0  0  0  0  0  0  0  0  0\n",
      "  0  0  0  0  0  0  0  0  0  0  0  0  0  0  0  0  0  0  0  0  0  0  0  0\n",
      "  0  0  0  0  0  0  0  0  0  0  0  0  0  0  0  0  0  0  0  0  0  0  0  0\n",
      "  0  0  0  0  0  0  0  0  0  0  0  0  0  0  0  0  0  0  0  0  0  0  0  0\n",
      "  0  0  0  0  0  0  0  0  0  0  0  0  0  0  0  0  0  0  0  0  0  0  0  0\n",
      "  0  0  0  0  0  0  0  0  0  0  0  0  0  0  0  0  0  0  0  0  0  0  0  0\n",
      "  0  0  0  0  0  0  0  0  0  0  0  0  0  0  0  0  0  0  0  0  0  0  0  0\n",
      "  0  0  0  0  0  0  0  0  0  0  0  0  0  0  0  0  0  0  0  0  0  0  0  0\n",
      "  0  0  0  0  0  0  0  0  0  0  0  0  0  0  0  0  0  0  0  0  0  0  0  0\n",
      "  0  0  0  0  0  0  0  0  0  0  0  0  0  0  0  0  0  0  0  0  0  0  0  0\n",
      "  0  0  0  0  0  0  0  0  0  0  0  0  0  0  0  0  0  0  0  0  0  0  0  0\n",
      "  0  0  0  0  0  0  0  0  0  0  0  0  0  0  0  0  0  0  0  0  0  0  0  0\n",
      "  0  0  0  0  0  0  0  0  0  0  0  0  0  0  0  0  0  0  0  0  0  0  0  0\n",
      "  0  0  0  0  0  0  0 10  0  0  0  0  0  0  0  0  0  0  0  0  0  0  0  0\n",
      "  0  0  0  0  0  0  0  0  0  0  0  0  0  0  0  0  0  0  0  0  0  0  0  0\n",
      "  0  0  0  0  0  0  0  0  0  0  0  0  0  0  0  0  0  0  0  0  0  0  0  0\n",
      "  0  0  0  0  0  0  0  0  0  0  0  0  0  0  0  0  0  0  0  0  0  0  0  0\n",
      "  0  0  0  0  0  0  0  0  0  0  0  0  0  0  0  0  0  0  0  0  0  0  0  0\n",
      "  0  0  0  0  0  0  0  0  0  0  0  0  0  0  0  0  0  0  0  0  0  0  0  0\n",
      "  0  0  0  0  0  0  0  0  0  0  0  0  0  0  0  0  0  0  0  0  0  0  0  0\n",
      "  0  0  0  0  0  0  0  0  0  0  0  0  0  0  0  0  0  0  0  0  0  0  0  0\n",
      "  0  0  0  0  0  0  0  0  0  0  0  0  0  0  0  0  0  0  0  0  0  0  0  0\n",
      "  0  0  0  0  0  0  0  0  0  0  0  0  0  0  0  0  0  0  0  0  0  0  0  0\n",
      "  0  0  0  0  0  0  0  0  0  0  0  0  0  0  0  0  0  0  0  0  0  0  0  0\n",
      "  0  0  0  0  0  0  0  0  0  0  0  0  0  0  0  0  0  0  0  0  0  0  0  0\n",
      "  0  0  0  0  0  0  0  0  0  0  0  0  0  0  0  0]\n",
      "\n",
      "Real\n",
      "[ 1  1  1  1  1  1  1  2  2  3  2  3  2  2  2  2  2  3  1  2  1  2  3  2\n",
      "  1  1  2  3  2  3  3  2  2  1  1  1  2  2  2  2  1  2  2  2  2  2  2  2\n",
      "  2  2  1  1  1  2  2  2  2  2  1  1  2  1  2  3  3  3  1  1  0  3  3  2\n",
      "  1  1  1  1  1  2  0  1  1  1  2  1  1  1  0  1  1  1  1  1  0  1  1  1\n",
      "  1  1  1  1  1  1  1  1  1  1  1  1  1  1  1  1  1  1  1  1  0  3  1  1\n",
      "  1  3  3  2  1  0  1  1  1  1  1  1  1  1  0  1  1  1  0  1  1  1  3  1\n",
      "  1  1  1  1  1  1  1  1  0  1  2  1  1  0  1  1  1  1  1  1  0  1  1  0\n",
      "  1  1  1  3  1  1  1  1  0  1  0  1  4  1  1  1  1  1  1  1  3  1  3  1\n",
      "  3  1  3  1  3  3  0  1  3  3  3  1  1  1  3  2  1  1  1  1  1  1  1  2\n",
      "  1  3  3  1  1  1  2  1  1  1  1  0  1  1  1  1  0  0  2  1  0  1  0  1\n",
      "  3  1  1  1  1  0  1  1  1  1  1  1  1  1  0  1  2  1  1  1  1  1  1  0\n",
      "  1  2  1  1  3  1  1  1  1  1  1  1  1  0  2  1  2  2  1  1  1  1  1  1\n",
      "  1  0  1  1  1  1  1  1  2  1  1  1  1  1  2  1  1  3  1  1  1  1  1  2\n",
      "  1  2  1  3  1  1  1  0  1  1  1  1  1  1  2  1  3  3  3  1  1  3  2  1\n",
      "  1  3  2  1  1  2  1  3  1  2  3  2  1  3  3  1  1  1  1  3  3  3  2  1\n",
      "  3  3  3  1  1  3  3  1  3  1  2  2  3  1  3  2  1  3  2  1  1  1  3  1\n",
      "  3  3  3  3  3  1  3  2  3  1  1  3  2  3  3  2  1  3  1  3  3  3  3  2\n",
      "  2  3  3  2  1  3  1  1  3  3  3  1  1  3  1  3  3  3  3  3  3  1  3  3\n",
      "  3  3  1  3  3  1  3  1  1  1  3  1  2  1  3  1  3  1  1  1  2  1  1  1\n",
      "  1  1  3  1  3  3  3  3  1  2  0  2  0  1  2  1  3  1  3  1  2  0  3  2\n",
      "  2  2  3  3  2  3  2  1  3  3  3  1  3  3  1  3  2  1  2  2  3  2  3  1\n",
      "  3  3  3  2  3  3  3  3  3  2  3  3  1  3  3  2  3  2  3  3  3  1  3  1\n",
      "  1  1  3  3  1  3  3  3  2  1  3  2  3  1  1  3  3  3  3  3  3  3  3  3\n",
      "  0  2  3  2  3  2  3  3  3  1  1  2  3  3  3  3  3  2  3  3  3  3  1  3\n",
      "  3  1  1  1  2  4  3  1  3  3  1  3  1  1  2  0  3  1  3  3  1  3  3  2\n",
      "  2  3  3  2  3  3  3  1  3  3  3  2  3  3  3  3  3  3  3  3  3  3  3  2\n",
      "  3  3  2  3  3  3  3  2  3  3  3  3  2  3  3  2  3  2  2  3  3  2  2  3\n",
      "  3  2  2  2  3  2  3  1  2  3  0  3  2  3  3  2  2  1  3  2  2  3  3  3\n",
      "  3  3  3  3  3  2  2  3  3  3  2  3  3  2  2  3  2  3  1  2  2  2 -1 -3\n",
      " -3  1  1 -1  1 -1  0 -1  0  1  2  3  3  3  2  2  3  3  0  3  3  3  3  3\n",
      "  2  3  3  3  1  1  0  1  1  1  2  3  2  3  3  2  1  1  3  3  1  3  1  1\n",
      "  1  1  3  3  3  3  2  3  2  1  2  2  3  1  3  2  3  1  1  3  2  2  3  3\n",
      "  0  3  2  3  1  3  3  3  3  3  1  3  3  3  2  3  3  3  3  0  1  3  3  1\n",
      "  3  3  3  3  3  0  3  3  3  1  1  1  2  1  3  3  3  3  2  2  1  1  3  3\n",
      "  3  3  1  1  1  0  3  3  1  0  3  2  3  3  3  2  1  3  3  3  3  3  3  3\n",
      "  3  3  3  3  3  2  3  3  3  3  3  3  3  3  3  3  0  3  2  2  1  1  1  1\n",
      "  2  1  3  3  1  1  0  3  3  3  2  2  3  3  3  2  0  3  3  3  1  3  3  3\n",
      "  2  3  1  1  3  3  1  1  3  1  1  0  0  0  3  1  3  1  0  2  3  3  1  3\n",
      "  3  3  3  1  3  2  3  1  3  3  1  1  3  3  3  1  0  1  2  1  3  3  3  2\n",
      "  0  1  2  3  1  3  4  4  4  5  3  4  3  3  3  3  3  4  3  3  3  3  3  3\n",
      "  3  3  3  2  3  3  3  3  3  3  3  3  4  4  4  3  4  3  4  4  3  3  3  2\n",
      "  1  1  2  2  3  3  1  1  1  1  0  1  1  1  1  2]\n"
     ]
    }
   ],
   "source": [
    "angle_range = torch.arange(MIN_ANGLE, MAX_ANGLE+1, RESOLUTION)\n",
    "\n",
    "correct = 0\n",
    "TOLERANCE_ANGLE = 0\n",
    "\n",
    "model.eval() \n",
    "output = model(x_test_torch)\n",
    "results = map(lambda matrix: torch.topk(matrix.reshape(-1), k=1, largest=True), output) \n",
    "predicted = torch.tensor([list(map(lambda x: x.item(), indices)) for _, indices in results])\n",
    "\n",
    "pred_value = angle_range[predicted].T.numpy().reshape(-1)\n",
    "real_value = y_test.T.reshape(-1)\n",
    "print(\"percent\".center(40, \"-\"))\n",
    "result = np.array(list((map(cal_mapping_val, angle_range[predicted], y_test))))\n",
    "correct += (result <= RESOLUTION * TOLERANCE_ANGLE).sum()\n",
    "print(correct/len(real_value) * 100, end='\\n\\n')\n",
    "# print(f'{(pred_value==real_value).sum()/len(real_value) * 100}%', end='\\n\\n')\n",
    "\n",
    "print(\"data\".center(40, \"-\"))\n",
    "print(\"predict\")\n",
    "print(pred_value);print()\n",
    "print(\"Real\")\n",
    "print(real_value)"
   ]
  }
 ],
 "metadata": {
  "kernelspec": {
   "display_name": "cuda",
   "language": "python",
   "name": "python3"
  },
  "language_info": {
   "codemirror_mode": {
    "name": "ipython",
    "version": 3
   },
   "file_extension": ".py",
   "mimetype": "text/x-python",
   "name": "python",
   "nbconvert_exporter": "python",
   "pygments_lexer": "ipython3",
   "version": "3.8.17"
  }
 },
 "nbformat": 4,
 "nbformat_minor": 2
}
