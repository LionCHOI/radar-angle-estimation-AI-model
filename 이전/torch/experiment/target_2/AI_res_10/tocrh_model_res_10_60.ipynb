{
 "cells": [
  {
   "cell_type": "markdown",
   "metadata": {},
   "source": [
    "## 해상도 10, -60 ~ 60"
   ]
  },
  {
   "cell_type": "markdown",
   "metadata": {},
   "source": [
    "### package 불러오기 (환경 설정)"
   ]
  },
  {
   "cell_type": "code",
   "execution_count": 1,
   "metadata": {},
   "outputs": [],
   "source": [
    "import torch \n",
    "import torch.nn as nn\n",
    "from torch.utils.data import Dataset, DataLoader\n",
    "\n",
    "from tqdm import tqdm\n",
    "import numpy as np"
   ]
  },
  {
   "cell_type": "markdown",
   "metadata": {},
   "source": [
    "### 변수 설정"
   ]
  },
  {
   "cell_type": "code",
   "execution_count": 2,
   "metadata": {},
   "outputs": [
    {
     "name": "stdout",
     "output_type": "stream",
     "text": [
      "13\n"
     ]
    }
   ],
   "source": [
    "# 변수 설정\n",
    "BATCH_SIZE = 64\n",
    "BATCH_MOMENTM = 0.9\n",
    "EPOCH = 5\n",
    "MIN_ANGLE, MAX_ANGLE, RESOLUTION = -60, 60, 10\n",
    "NUM_CLASS = (MAX_ANGLE-MIN_ANGLE) // RESOLUTION + 1\n",
    "\n",
    "print(NUM_CLASS)\n",
    "\n",
    "device = torch.device('cuda' if torch.cuda.is_available() else \"cpu\")"
   ]
  },
  {
   "cell_type": "markdown",
   "metadata": {},
   "source": [
    "### 데이터 셋 및 모델 설정"
   ]
  },
  {
   "cell_type": "markdown",
   "metadata": {},
   "source": [
    "#### 데이터 셋 설정"
   ]
  },
  {
   "cell_type": "code",
   "execution_count": 3,
   "metadata": {},
   "outputs": [],
   "source": [
    "class RadarDataset(Dataset):\n",
    "  def __init__(self, transform, data, label):\n",
    "    super(RadarDataset, self).__init__()\n",
    "    self.transform = transform\n",
    "    self.label = self.transform(label)\n",
    "    self.data = self.transform(data).type(torch.float)\n",
    "\n",
    "  def __len__(self, ):\n",
    "    return self.data.shape[0]\n",
    "\n",
    "  def __getitem__(self, index):   \n",
    "    return self.data[index], self.label[index]\n"
   ]
  },
  {
   "cell_type": "markdown",
   "metadata": {},
   "source": [
    "#### 모델 설정"
   ]
  },
  {
   "cell_type": "code",
   "execution_count": 4,
   "metadata": {},
   "outputs": [],
   "source": [
    "class ConvNet(nn.Module):\n",
    "    def __init__(self):\n",
    "        super(ConvNet, self).__init__()\n",
    "    \n",
    "        self.layer1 = nn.Sequential(\n",
    "            nn.Conv2d(3, 256, kernel_size=3, stride=1, padding=1),\n",
    "            nn.BatchNorm2d(256, momentum=BATCH_MOMENTM),\n",
    "            nn.ReLU())\n",
    "        \n",
    "        self.layer2 = nn.Sequential(\n",
    "            nn.Conv2d(256, 256, kernel_size=3, stride=1, padding=1),\n",
    "            nn.BatchNorm2d(256, momentum=BATCH_MOMENTM),\n",
    "            nn.ReLU())\n",
    "        \n",
    "        self.layer3 = nn.Sequential(\n",
    "            nn.Conv2d(256, 256, kernel_size=3, stride=1, padding=1),\n",
    "            nn.BatchNorm2d(256, momentum=BATCH_MOMENTM),\n",
    "            nn.ReLU())\n",
    "        \n",
    "        self.layer4 = nn.Sequential(\n",
    "            nn.Conv2d(256, 256, kernel_size=3, stride=1, padding=1),\n",
    "            nn.BatchNorm2d(256, momentum=BATCH_MOMENTM),\n",
    "            nn.ReLU())\n",
    "        \n",
    "        self.fc1 = nn.Sequential(\n",
    "            nn.Linear(4*4*256, 4096),\n",
    "            nn.ReLU(),\n",
    "            nn.Dropout(0.5)\n",
    "        )\n",
    "        \n",
    "        self.fc2 = nn.Sequential(\n",
    "            nn.Linear(4096, 2048),\n",
    "            nn.ReLU(),\n",
    "            nn.Dropout(0.5)\n",
    "        )\n",
    "                \n",
    "        self.fc3 = nn.Sequential(\n",
    "            nn.Linear(2048, 1024),\n",
    "            nn.ReLU(),\n",
    "            nn.Dropout(0.5)\n",
    "        )\n",
    "        \n",
    "        self.fc4 = nn.Sequential(\n",
    "            nn.Linear(1024, NUM_CLASS),\n",
    "            nn.ReLU()\n",
    "        )\n",
    "        \n",
    "    def forward(self, x):\n",
    "        out = self.layer1(x)\n",
    "        out = self.layer2(out)\n",
    "        out = self.layer3(out)\n",
    "        out = self.layer4(out)\n",
    "        out = out.reshape(out.size(0), -1)\n",
    "        \n",
    "        out = self.fc1(out)\n",
    "        out = self.fc2(out)\n",
    "        out = self.fc3(out)\n",
    "        out = self.fc4(out)\n",
    "        \n",
    "        return out"
   ]
  },
  {
   "cell_type": "markdown",
   "metadata": {},
   "source": [
    "#### custom loss 설정"
   ]
  },
  {
   "cell_type": "code",
   "execution_count": 10,
   "metadata": {},
   "outputs": [],
   "source": [
    "def calc_covmat(batch_size, n_antenna, y_pred):\n",
    "    COV_Mat_gen = torch.zeros((batch_size, n_antenna, n_antenna), dtype=torch.complex64)\n",
    "    steering_vec = torch.zeros((n_antenna, 1), dtype=torch.complex64)\n",
    "    angle_range = torch.arange(MIN_ANGLE, MAX_ANGLE+1, RESOLUTION)  # -60 ~ 60 (121)\n",
    "        \n",
    "    for batch_idx in range(batch_size):\n",
    "        for idx, angle in enumerate(angle_range):\n",
    "            rad = torch.deg2rad(angle)\n",
    "            for antenna_idx in range(n_antenna):\n",
    "                steering_vec[antenna_idx] = torch.exp(1j * torch.pi * torch.sin(rad) * antenna_idx) # (4, 1)\n",
    "            COV_Mat_gen[batch_idx] += y_pred[batch_idx, idx] * (steering_vec @ steering_vec.conj().transpose(1, 0))\n",
    "\n",
    "    return COV_Mat_gen\n",
    "\n",
    "class CustomLoss(nn.Module):\n",
    "    def __init__(self):\n",
    "        super(CustomLoss, self).__init__()\n",
    "        \n",
    "    def forward(self, y_pred, y_true):\n",
    "        batch_size, n_channel, n_antenna, n_antenna = y_true.shape\n",
    "        COV_Mat_gen = calc_covmat(batch_size, n_antenna, y_pred.cpu())\n",
    "        pred = torch.triu(torch.angle(COV_Mat_gen)).to(device)\n",
    "        \n",
    "        return torch.sqrt(nn.functional.mse_loss(y_true[:, 2], pred))"
   ]
  },
  {
   "cell_type": "markdown",
   "metadata": {},
   "source": [
    "### 데이터 불러오기 및 학습 형태로 전환"
   ]
  },
  {
   "cell_type": "markdown",
   "metadata": {},
   "source": [
    "#### 데이터 불러오기"
   ]
  },
  {
   "cell_type": "code",
   "execution_count": 11,
   "metadata": {},
   "outputs": [
    {
     "name": "stdout",
     "output_type": "stream",
     "text": [
      "8000\n"
     ]
    }
   ],
   "source": [
    "Rx_sig = np.load(f'./total_output_COV_{RESOLUTION}_{MAX_ANGLE}.npy')\n",
    "angle  = np.load(f'./total_output_angle_{RESOLUTION}_{MAX_ANGLE}.npy')\n",
    "\n",
    "train_size = round(Rx_sig.shape[0]*0.8)\n",
    "print(train_size)\n",
    "\n",
    "# import train data\n",
    "x_train = np.array([[(np.real(Rxx)), (np.imag(Rxx)), ((np.angle(Rxx)))] for Rxx in Rx_sig[:train_size]])\n",
    "y_train = angle[:train_size]\n",
    "\n",
    "# import valid data\n",
    "x_valid = np.array([[(np.real(Rxx)), (np.imag(Rxx)), ((np.angle(Rxx)))] for Rxx in Rx_sig[train_size:]])\n",
    "y_valid = angle[train_size:]\n",
    "\n",
    "# import test data\n",
    "x_test = np.array([[(np.real(Rxx)), (np.imag(Rxx)), ((np.angle(Rxx)))] for Rxx in Rx_sig[train_size:]])\n",
    "y_test = angle[train_size:]\n",
    "\n",
    "# y_test size transition\n",
    "test_size = len(y_test)                     # 총 크기\n",
    "find_num = len(np.where(y_test[0]== 1)[0])  # 찾아야 하는 물체의 개수\n",
    "\n",
    "y_test_tmp = np.zeros((y_test.shape[0], find_num))  \n",
    "\n",
    "for idx, data in enumerate(y_test):\n",
    "    y_test_tmp[idx] = np.where(data== 1)[0]\n",
    "\n",
    "y_test = y_test_tmp"
   ]
  },
  {
   "cell_type": "markdown",
   "metadata": {},
   "source": [
    "#### 데이터 불러오기 V2 (훨씬 낫다!)"
   ]
  },
  {
   "cell_type": "code",
   "execution_count": 25,
   "metadata": {},
   "outputs": [],
   "source": [
    "from copy import deepcopy\n",
    "\n",
    "def compensate_phase(matrix):\n",
    "  num_row, num_col = matrix.shape\n",
    "  new_matrix = deepcopy(matrix)\n",
    "  Tolerence_interval = np.radians(5)\n",
    "  \n",
    "  Trouble_value_min, Trouble_value_max = np.pi/2 - Tolerence_interval, np.pi/2\n",
    "  \n",
    "  for idx_row in range(num_row):\n",
    "      for idx_col in range(num_col - 1):\n",
    "          diff_val = abs(new_matrix[idx_row, idx_col+1] - new_matrix[idx_row, idx_col])   # 두 연속된 값의 차\n",
    "          if Trouble_value_min < diff_val < Trouble_value_max:\n",
    "              diff_interval_back = np.pi-abs(new_matrix[idx_row, idx_col+1])  # 해당 값과 180의 차 (뒤의 값 바꾸기)\n",
    "              if diff_interval_back < Tolerence_interval:\n",
    "                  if (new_matrix[idx_row, idx_col+1] - new_matrix[idx_row, idx_col]) < 0:\n",
    "                    new_matrix[idx_row, idx_col+1] = np.pi\n",
    "                  else:\n",
    "                    new_matrix[idx_row, idx_col+1] = -np.pi\n",
    "  return new_matrix"
   ]
  },
  {
   "cell_type": "code",
   "execution_count": 26,
   "metadata": {},
   "outputs": [
    {
     "name": "stdout",
     "output_type": "stream",
     "text": [
      "8000\n"
     ]
    }
   ],
   "source": [
    "Rx_sig = np.load(f'./total_output_COV_{RESOLUTION}_{MAX_ANGLE}.npy')\n",
    "angle  = np.load(f'./total_output_angle_{RESOLUTION}_{MAX_ANGLE}.npy')\n",
    "\n",
    "train_size = round(Rx_sig.shape[0]*0.8)\n",
    "print(train_size)\n",
    "\n",
    "# import train data\n",
    "x_train = np.array([[np.triu(np.real(Rxx)), np.triu(np.imag(Rxx)), np.triu(compensate_phase(np.angle(Rxx)))] for Rxx in Rx_sig[:train_size]])\n",
    "y_train = angle[:train_size]\n",
    "\n",
    "# import valid data\n",
    "x_valid = np.array([[np.triu(np.real(Rxx)), np.triu(np.imag(Rxx)), np.triu(compensate_phase(np.angle(Rxx)))] for Rxx in Rx_sig[train_size:]])\n",
    "y_valid = angle[train_size:]\n",
    "\n",
    "# import test data\n",
    "x_test = np.array([[np.triu(np.real(Rxx)), np.triu(np.imag(Rxx)), np.triu(compensate_phase(np.angle(Rxx)))] for Rxx in Rx_sig[train_size:]])\n",
    "y_test = angle[train_size:]\n",
    "\n",
    "# y_test size transition\n",
    "test_size = len(y_test)                     # 총 크기\n",
    "find_num = len(np.where(y_test[0]== 1)[0])  # 찾아야 하는 물체의 개수\n",
    "\n",
    "y_test_tmp = np.zeros((y_test.shape[0], find_num))  \n",
    "\n",
    "for idx, data in enumerate(y_test):\n",
    "    y_test_tmp[idx] = np.where(data== 1)[0]\n",
    "\n",
    "y_test = y_test_tmp"
   ]
  },
  {
   "cell_type": "markdown",
   "metadata": {},
   "source": [
    "#### 학습한 적합한 형태로 변환"
   ]
  },
  {
   "cell_type": "code",
   "execution_count": 27,
   "metadata": {},
   "outputs": [],
   "source": [
    "train_set = RadarDataset(transform=torch.from_numpy, data=x_train, label=y_train)\n",
    "valid_set = RadarDataset(transform=torch.from_numpy, data=x_valid, label=y_valid)\n",
    "test_set = RadarDataset(transform=torch.from_numpy, data=x_test, label=y_test)\n",
    "\n",
    "train_loader = DataLoader(dataset=train_set, batch_size=BATCH_SIZE, shuffle = True)\n",
    "valid_loader = DataLoader(dataset=valid_set, batch_size=BATCH_SIZE, shuffle = False)\n",
    "test_loader = DataLoader(dataset=test_set, batch_size=BATCH_SIZE, shuffle = False)"
   ]
  },
  {
   "cell_type": "markdown",
   "metadata": {},
   "source": [
    "### 학습 준비 및 학습 "
   ]
  },
  {
   "cell_type": "markdown",
   "metadata": {},
   "source": [
    "#### 학습 준비 - 모델 및 loss 함수와 opimizer 설정 "
   ]
  },
  {
   "cell_type": "code",
   "execution_count": 28,
   "metadata": {},
   "outputs": [],
   "source": [
    "model = ConvNet().to(device)\n",
    "\n",
    "criterion = CustomLoss()\n",
    "optimizer = torch.optim.Adam(model.parameters(), lr=1e-5)"
   ]
  },
  {
   "cell_type": "markdown",
   "metadata": {},
   "source": [
    "#### 학습 "
   ]
  },
  {
   "cell_type": "code",
   "execution_count": 29,
   "metadata": {},
   "outputs": [
    {
     "name": "stderr",
     "output_type": "stream",
     "text": [
      "                                                                                       \r"
     ]
    },
    {
     "name": "stdout",
     "output_type": "stream",
     "text": [
      "Epoch [1/5], Step [125/125], train Loss: 1.0580, val Loss: 1.2792\n"
     ]
    },
    {
     "name": "stderr",
     "output_type": "stream",
     "text": [
      "                                                                                       \r"
     ]
    },
    {
     "name": "stdout",
     "output_type": "stream",
     "text": [
      "Epoch [2/5], Step [125/125], train Loss: 0.8252, val Loss: 1.4033\n"
     ]
    },
    {
     "name": "stderr",
     "output_type": "stream",
     "text": [
      "                                                                                       \r"
     ]
    },
    {
     "name": "stdout",
     "output_type": "stream",
     "text": [
      "Epoch [3/5], Step [125/125], train Loss: 0.8122, val Loss: 1.3856\n"
     ]
    },
    {
     "name": "stderr",
     "output_type": "stream",
     "text": [
      "                                                                                       \r"
     ]
    },
    {
     "name": "stdout",
     "output_type": "stream",
     "text": [
      "Epoch [4/5], Step [125/125], train Loss: 0.7908, val Loss: 1.3822\n"
     ]
    },
    {
     "name": "stderr",
     "output_type": "stream",
     "text": [
      "                                                                                       \r"
     ]
    },
    {
     "name": "stdout",
     "output_type": "stream",
     "text": [
      "Epoch [5/5], Step [125/125], train Loss: 0.7781, val Loss: 1.3958\n"
     ]
    }
   ],
   "source": [
    "# Train the model\n",
    "total_train_step = len(train_loader)\n",
    "total_valid_step = len(valid_loader)\n",
    "\n",
    "total_train_loss, total_valid_loss = [], []\n",
    "\n",
    "for epoch in range(EPOCH):\n",
    "    train_loss, val_loss = 0, 0\n",
    "    train_tqdm = tqdm(train_loader, total=len(train_loader), leave=False)\n",
    "     \n",
    "    model.train()\n",
    "    for i, (x_train, y_train) in enumerate(train_tqdm, 1):\n",
    "        x_train = x_train.to(device)\n",
    "        # y_train = y_train.to(device)\n",
    "        \n",
    "        outputs = model(x_train)\n",
    "        loss = criterion(outputs, x_train)\n",
    "        optimizer.zero_grad()\n",
    "        loss.backward()\n",
    "        \n",
    "        train_loss += loss.item()\n",
    "        optimizer.step()\n",
    "        \n",
    "        train_tqdm.set_description(desc=f'Training Loss on Epoch [{epoch+1}/{EPOCH}]: {train_loss / i: .3f}')\n",
    "        \n",
    "    with torch.no_grad():\n",
    "        for k, (x_valid, y_valid) in enumerate(valid_loader):  # data의 크기를 bath_size 만큼 나눈 것을 반복한다.\n",
    "            x_valid = x_valid.to(device)\n",
    "            # y_valid = y_valid.to(device)\n",
    "            \n",
    "            val_output = model.forward(x_valid)\n",
    "            v_loss = criterion(outputs, x_valid)\n",
    "            \n",
    "            val_loss += v_loss.item()\n",
    "    \n",
    "    total_train_loss.append(train_loss/total_train_step)\n",
    "    total_valid_loss.append(val_loss/total_valid_step)\n",
    "\n",
    "    print (f'Epoch [{epoch+1}/{EPOCH}], Step [{i}/{total_train_step}], train Loss: {train_loss/total_train_step:.4f}, val Loss: {val_loss/total_valid_step:.4f}')"
   ]
  },
  {
   "cell_type": "markdown",
   "metadata": {},
   "source": [
    "### 결과 확인 "
   ]
  },
  {
   "cell_type": "markdown",
   "metadata": {},
   "source": [
    "#### 지표로 확인"
   ]
  },
  {
   "cell_type": "code",
   "execution_count": 31,
   "metadata": {},
   "outputs": [
    {
     "name": "stdout",
     "output_type": "stream",
     "text": [
      "Test Accuracy of the model on the 2000 test images: 77.525 %\n"
     ]
    }
   ],
   "source": [
    "def cal_mapping_val(pred, test):\n",
    "    pred_list, test_list = list(pred), list(test)\n",
    "    mapping_list, mapping_val = [], []\n",
    "    \n",
    "    for val_test in test_list:\n",
    "        min_val = float('inf')\n",
    "        \n",
    "        for val_pred in pred_list:\n",
    "            result = abs(val_test - val_pred)\n",
    "            \n",
    "            if result < min_val:\n",
    "                min_val = result\n",
    "                mapping_val = val_pred\n",
    "                \n",
    "        mapping_list.append(abs(val_test - mapping_val))\n",
    "        pred_list.remove(mapping_val)\n",
    "    \n",
    "    return mapping_list\n",
    "\n",
    "TOLERANCE_ANGLE = 1\n",
    "TRAIN_CHOICE = False\n",
    "# Test the model\n",
    "model.eval()  # eval mode (batch norm uses moving mean/variance instead of mini-batch mean/variance)\n",
    "with torch.no_grad():\n",
    "    correct, total = 0, 0\n",
    "\n",
    "    for x_test, y_test in test_loader:\n",
    "        x_test = x_test.to(device)\n",
    "        y_test = y_test\n",
    "        outputs = model(x_test)\n",
    "        \n",
    "        # 총 물체 개수\n",
    "        total += y_test.size(0) * find_num\n",
    "        \n",
    "        # 찾아야 하는 물체의 index 추출\n",
    "        results = map(lambda matrix: torch.topk(matrix, k=find_num, largest=True), outputs) \n",
    "        predicted = torch.tensor([list(map(lambda x: x.item(), indices)) for _, indices in results]) \n",
    "        \n",
    "        # 추정 알고리즘\n",
    "        result = np.array(list((map(cal_mapping_val, predicted, y_test))))\n",
    "        correct += (result <= TOLERANCE_ANGLE).sum()\n",
    " \n",
    "    print('Test Accuracy of the model on the {} test images: {} %'.format(test_size, 100 * correct / total))\n",
    "    \n",
    "# Save the model checkpoint\n",
    "if TRAIN_CHOICE is True:\n",
    "    torch.save(model.state_dict(), f'./model_{RESOLUTION}_{MAX_ANGLE}.ckpt')"
   ]
  },
  {
   "cell_type": "markdown",
   "metadata": {},
   "source": [
    "#### 데이터로 확인"
   ]
  },
  {
   "cell_type": "code",
   "execution_count": 32,
   "metadata": {},
   "outputs": [
    {
     "name": "stdout",
     "output_type": "stream",
     "text": [
      "tensor([[ 10,  60, -10,  10,  10,  60,  10,  40,  60,   0, -60,  10,  10, -60,\n",
      "         -10, -60],\n",
      "        [-60,  10,  40, -40,  60, -40,   0,   0,  40, -40,  10, -40, -10,  10,\n",
      "         -60, -50]])\n",
      "\n",
      "tensor([[-60,   0, -10, -30,  20, -40,   0,   0,  50, -50, -60, -30, -30, -50,\n",
      "         -60, -60],\n",
      "        [ 10,  60,  40,  10,  60,  60,  10,  50,  60,  60,  40,  20,  30,  40,\n",
      "         -20,  30]])\n"
     ]
    }
   ],
   "source": [
    "angle_range = torch.arange(MIN_ANGLE, MAX_ANGLE+1, RESOLUTION)\n",
    "\n",
    "model.eval()\n",
    "with torch.no_grad():\n",
    "    outputs = model(x_test)\n",
    "    \n",
    "results = map(lambda matrix: torch.topk(matrix.reshape(-1), k=find_num, largest=True), outputs) \n",
    "predicted = torch.tensor([list(map(lambda x: x.item(), indices)) for _, indices in results])\n",
    "print(angle_range[predicted].T)\n",
    "\n",
    "print()\n",
    "print(angle_range[y_test.long()].T)"
   ]
  },
  {
   "cell_type": "markdown",
   "metadata": {},
   "source": [
    "#### loss로 확인"
   ]
  },
  {
   "cell_type": "code",
   "execution_count": 15,
   "metadata": {},
   "outputs": [
    {
     "data": {
      "image/png": "[encoded data removed]",
      "text/plain": [
       "<Figure size 600x400 with 1 Axes>"
      ]
     },
     "metadata": {},
     "output_type": "display_data"
    }
   ],
   "source": [
    "import matplotlib.pyplot as plt\n",
    "\n",
    "## save fig\n",
    "plt.figure(figsize=(6, 4))\n",
    "plt.plot(list(range(EPOCH)), total_train_loss)\n",
    "plt.plot(list(range(EPOCH)), total_valid_loss)\n",
    "plt.title('Original loss')\n",
    "plt.ylabel('Loss')\n",
    "plt.xlabel('Epoch')\n",
    "plt.grid()"
   ]
  },
  {
   "cell_type": "markdown",
   "metadata": {},
   "source": [
    "## 실험 데이터가 잘 학습되는지 확인"
   ]
  },
  {
   "cell_type": "markdown",
   "metadata": {},
   "source": [
    "### 학습된 모델 불러오기"
   ]
  },
  {
   "cell_type": "code",
   "execution_count": 22,
   "metadata": {},
   "outputs": [
    {
     "data": {
      "text/plain": [
       "<All keys matched successfully>"
      ]
     },
     "execution_count": 22,
     "metadata": {},
     "output_type": "execute_result"
    }
   ],
   "source": [
    "model = ConvNet().to(device)\n",
    "model.load_state_dict(torch.load(f'./model_{RESOLUTION}_{MAX_ANGLE}.ckpt'))"
   ]
  },
  {
   "cell_type": "markdown",
   "metadata": {},
   "source": [
    "### 실험 데이터 불러오기"
   ]
  },
  {
   "cell_type": "code",
   "execution_count": 33,
   "metadata": {},
   "outputs": [],
   "source": [
    "Rx_sig = np.load(f'./test_output_COV_{RESOLUTION}_{MAX_ANGLE}.npy')\n",
    "angle = np.load(f'./test_output_angle_{RESOLUTION}_{MAX_ANGLE}.npy')\n",
    "\n",
    "x_test = np.array([[(np.real(Rxx)), (np.imag(Rxx)), ((np.angle(Rxx)))] for Rxx in Rx_sig])\n",
    "x_test_torch= torch.from_numpy(x_test).type(torch.float).to(device)\n",
    "y_test = angle.astype(int)"
   ]
  },
  {
   "cell_type": "markdown",
   "metadata": {},
   "source": [
    "### 실험 데이터 검증"
   ]
  },
  {
   "cell_type": "code",
   "execution_count": 34,
   "metadata": {},
   "outputs": [
    {
     "name": "stdout",
     "output_type": "stream",
     "text": [
      "----------------percent-----------------\n",
      "90.0\n",
      "\n",
      "------------------data------------------\n",
      "predict\n",
      "[-10  40  40  40  40  40  40  40  40  40  40  40  40  40  40  40  40  40\n",
      "  40  40 -10  40  40  40  40  40  40  40  40  40  40  40  40  40  40  40\n",
      "  40  40  40  40  40  40  40 -10 -10  40  40 -10  40  40  40  40  40 -10\n",
      "  40  40  40  40  40 -10  40  40  40  40  40  40  40  40  40  10  40  40\n",
      "  40  40  40  40  40  40  40  40  40  40  40  40  40  40  40  40  40  40\n",
      "  40  40  40  40 -10  40  40  40  40  40]\n",
      "\n",
      "Real\n",
      "[45 44 44 44 44 44 44 44 44 44 44 44 44 43 44 44 44  0 44 44 44 44 44 43\n",
      " 44 44 44 44 44 43 44 44 44 44 45 44 44 44 44 45 44 44 43 43 45 44 44 44\n",
      " 43 44 44 45 45 45 45 45 44 45 44 44 45 44 44 44 45 43 44 44  0  0 44 45\n",
      " 45 44 44 44 44 44 44 44 44 44 44 44 44 45 44 44 45 43 45 44 43 44 45 43\n",
      " 44 44 44 44]\n"
     ]
    }
   ],
   "source": [
    "angle_range = torch.arange(MIN_ANGLE, MAX_ANGLE+1, RESOLUTION)\n",
    "\n",
    "correct = 0\n",
    "TOLERANCE_ANGLE = 1\n",
    "\n",
    "model.eval() \n",
    "output = model(x_test_torch)\n",
    "results = map(lambda matrix: torch.topk(matrix.reshape(-1), k=1, largest=True), output) \n",
    "predicted = torch.tensor([list(map(lambda x: x.item(), indices)) for _, indices in results])\n",
    "\n",
    "pred_value = angle_range[predicted].T.numpy().reshape(-1)\n",
    "real_value = y_test.T.reshape(-1)\n",
    "print(\"percent\".center(40, \"-\"))\n",
    "result = np.array(list((map(cal_mapping_val, angle_range[predicted], y_test))))\n",
    "correct += (result <= RESOLUTION * TOLERANCE_ANGLE).sum()\n",
    "print(correct/len(real_value) * 100, end='\\n\\n')\n",
    "# print(f'{(pred_value==real_value).sum()/len(real_value) * 100}%', end='\\n\\n')\n",
    "\n",
    "print(\"data\".center(40, \"-\"))\n",
    "print(\"predict\")\n",
    "print(pred_value);print()\n",
    "print(\"Real\")\n",
    "print(real_value)"
   ]
  },
  {
   "cell_type": "markdown",
   "metadata": {},
   "source": [
    "## 기타"
   ]
  },
  {
   "cell_type": "code",
   "execution_count": 43,
   "metadata": {},
   "outputs": [],
   "source": [
    "# def compensate_phase(matrix):\n",
    "#     num_row, num_col = matrix.shape\n",
    "#     Tolerence_interval = np.radians(5)\n",
    "    \n",
    "#     Trouble_value_min, Trouble_value_max = np.pi/2 - Tolerence_interval, np.pi/2\n",
    "    \n",
    "    \n",
    "#     for idx_row in range(num_row):\n",
    "#         for idx_col in range(num_col - 1):\n",
    "#             diff_val = abs(matrix[idx_row, idx_col+1] - matrix[idx_row, idx_col])   # 두 연속된 값의 차\n",
    "#             if Trouble_value_min < diff_val < Trouble_value_max:\n",
    "#                 diff_interval_back = np.pi-abs(matrix[idx_row, idx_col+1])  # 해당 값과 180의 차 (뒤의 값 바꾸기)\n",
    "#                 if diff_interval_back < Tolerence_interval:\n",
    "#                     if (matrix[idx_row, idx_col+1] - matrix[idx_row, idx_col]) < 0:\n",
    "#                       matrix[idx_row, idx_col+1] = np.pi\n",
    "#                     else:\n",
    "#                       matrix[idx_row, idx_col+1] = -np.pi\n",
    "#     return matrix\n",
    "\n",
    "\n",
    "# print(np.rad2deg(np.pi))\n",
    "\n",
    "# tmp_matrix = np.array([[1.70411220e-20, -1.56466336e+00, -3.12932672e+00, -1.50231801e+00],\n",
    "#                       [-1.59466336e+00,  2.05651625e-20,  1.59366766e+00, -3.14159265e+00],\n",
    "#                       [-3.14159265e+00, -1.59366766e+00, -1.71187341e-19,  1.59231667e+00],\n",
    "#                       [1.50231801e+00, -3.14159265e+00, -1.59231667e+00, -2.23292031e-19]])\n",
    "\n",
    "# print(np.rad2deg(tmp_matrix).astype(int))\n",
    "# print(np.rad2deg(compensate_phase(tmp_matrix)).astype(int))"
   ]
  },
  {
   "cell_type": "code",
   "execution_count": null,
   "metadata": {},
   "outputs": [],
   "source": [
    "# def compensate_phase(matrix):\n",
    "#     num_row, num_col = matrix.shape\n",
    "#     Tolerence_interval = np.radians(5)\n",
    "    \n",
    "#     Trouble_value_min, Trouble_value_max = np.pi/2 - Tolerence_interval, np.pi/2\n",
    "    \n",
    "    \n",
    "#     for idx_row in range(num_row):\n",
    "#         for idx_col in range(num_col - 1):\n",
    "#             diff_val = abs(matrix[idx_row, idx_col+1] - matrix[idx_row, idx_col])   # 두 연속된 값의 차\n",
    "#             if Trouble_value_min < diff_val < Trouble_value_max:\n",
    "#                 diff_interval_back = np.pi-abs(matrix[idx_row, idx_col+1])  # 해당 값과 180의 차 (뒤의 값 바꾸기)\n",
    "#                 if diff_interval_back < Tolerence_interval:\n",
    "#                     if (matrix[idx_row, idx_col+1] - matrix[idx_row, idx_col]) < 0:\n",
    "#                       matrix[idx_row, idx_col+1] = np.pi\n",
    "#                     else:\n",
    "#                       matrix[idx_row, idx_col+1] = -np.pi\n",
    "    # return matrix\n",
    "\n",
    "\n",
    "# print(np.rad2deg(np.pi))\n",
    "\n",
    "# tmp_matrix = np.array([[1.70411220e-20, -1.56466336e+00, -3.12932672e+00, -1.50231801e+00],\n",
    "#                       [-1.59466336e+00,  2.05651625e-20,  1.59366766e+00, -3.14159265e+00],\n",
    "#                       [-3.14159265e+00, -1.59366766e+00, -1.71187341e-19,  1.59231667e+00],\n",
    "#                       [1.50231801e+00, -3.14159265e+00, -1.59231667e+00, -2.23292031e-19]])\n",
    "\n",
    "# print(np.rad2deg(tmp_matrix).astype(int))\n",
    "# print(np.rad2deg(compensate_phase(tmp_matrix)).astype(int))"
   ]
  },
  {
   "cell_type": "code",
   "execution_count": 26,
   "metadata": {},
   "outputs": [
    {
     "name": "stdout",
     "output_type": "stream",
     "text": [
      "tensor([[   0, -125,  109,  -15],\n",
      "        [ 125,    0, -125,  109],\n",
      "        [-109,  125,    0, -125],\n",
      "        [  15, -109,  125,    0]], dtype=torch.int32)\n"
     ]
    }
   ],
   "source": [
    "# n_antenna = 4\n",
    "\n",
    "# COV_Mat_gen = torch.zeros((n_antenna, n_antenna), dtype=torch.complex64)\n",
    "# steering_vec = torch.zeros((n_antenna, 1), dtype=torch.complex64)\n",
    "# angle_range = torch.arange(-60, 60+1, 1)  # -60 ~ 60 (121)\n",
    "    \n",
    "# y_pred = torch.zeros((len(angle_range)))\n",
    "# y_pred[104] = 1\n",
    "\n",
    "# for idx, angle in enumerate(angle_range):\n",
    "#     rad = torch.deg2rad(angle)\n",
    "#     for antenna_idx in range(n_antenna):\n",
    "#         steering_vec[antenna_idx] = torch.exp(1j * torch.pi * torch.sin(rad) * antenna_idx) # (4, 1)\n",
    "#     COV_Mat_gen += y_pred[idx] * (steering_vec @ steering_vec.conj().transpose(1, 0))\n",
    "\n",
    "# print(torch.rad2deg(torch.angle(COV_Mat_gen)).type(torch.int32))"
   ]
  }
 ],
 "metadata": {
  "kernelspec": {
   "display_name": "cuda",
   "language": "python",
   "name": "python3"
  },
  "language_info": {
   "codemirror_mode": {
    "name": "ipython",
    "version": 3
   },
   "file_extension": ".py",
   "mimetype": "text/x-python",
   "name": "python",
   "nbconvert_exporter": "python",
   "pygments_lexer": "ipython3",
   "version": "3.8.17"
  }
 },
 "nbformat": 4,
 "nbformat_minor": 2
}
