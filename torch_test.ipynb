{
 "cells": [
  {
   "cell_type": "markdown",
   "metadata": {},
   "source": [
    "### package 불러오기 (환경 설정)"
   ]
  },
  {
   "cell_type": "code",
   "execution_count": 3,
   "metadata": {},
   "outputs": [
    {
     "name": "stderr",
     "output_type": "stream",
     "text": [
      "c:\\Users\\user\\anaconda3\\envs\\venv\\lib\\site-packages\\tqdm\\auto.py:21: TqdmWarning: IProgress not found. Please update jupyter and ipywidgets. See https://ipywidgets.readthedocs.io/en/stable/user_install.html\n",
      "  from .autonotebook import tqdm as notebook_tqdm\n"
     ]
    }
   ],
   "source": [
    "import torch \n",
    "from torch.utils.data import DataLoader\n",
    "\n",
    "import numpy as np\n",
    "\n",
    "from include.model import ConvNet\n",
    "from include.dataset import RadarDataset \n",
    "from include.utils import preprocessing_rx_sig, postprocessing"
   ]
  },
  {
   "cell_type": "markdown",
   "metadata": {},
   "source": [
    "### 변수 설정"
   ]
  },
  {
   "cell_type": "code",
   "execution_count": 4,
   "metadata": {},
   "outputs": [
    {
     "name": "stdout",
     "output_type": "stream",
     "text": [
      "13\n"
     ]
    }
   ],
   "source": [
    "# 모델 파라미터\n",
    "BATCH_SIZE = 50\n",
    "BATCH_MOMENTM = 0.9\n",
    "EPOCH = 1\n",
    "lr = 5e-6   # 5e-6 \n",
    "device = torch.device('cuda' if torch.cuda.is_available() else \"cpu\")\n",
    "\n",
    "# 레이더 각도 변수\n",
    "MIN_ANGLE, MAX_ANGLE, RESOLUTION = -60, 60, 10\n",
    "NUM_CLASS = (MAX_ANGLE-MIN_ANGLE) // RESOLUTION + 1\n",
    "\n",
    "print(NUM_CLASS)"
   ]
  },
  {
   "cell_type": "markdown",
   "metadata": {},
   "source": [
    "### 학습된 모델 불러오기"
   ]
  },
  {
   "cell_type": "code",
   "execution_count": 8,
   "metadata": {},
   "outputs": [
    {
     "data": {
      "text/plain": [
       "<All keys matched successfully>"
      ]
     },
     "execution_count": 8,
     "metadata": {},
     "output_type": "execute_result"
    }
   ],
   "source": [
    "model_checkpoint = './model/model_10_60_12232144.ckpt'\n",
    "\n",
    "model = ConvNet(NUM_CLASS=NUM_CLASS, BATCH_MOMENTM=BATCH_MOMENTM).to(device)\n",
    "model.load_state_dict(torch.load(model_checkpoint))"
   ]
  },
  {
   "cell_type": "markdown",
   "metadata": {},
   "source": [
    "### 실험 데이터 불러오기"
   ]
  },
  {
   "cell_type": "code",
   "execution_count": 9,
   "metadata": {},
   "outputs": [
    {
     "name": "stdout",
     "output_type": "stream",
     "text": [
      "x_test : 12132\n"
     ]
    }
   ],
   "source": [
    "FIRST_IDX = 1\n",
    "PATH_LIST = ['./data/23_12_22_data/data', './data/23_12_16_data/data']\n",
    "SIMULATION_INCLUDE = False\n",
    "\n",
    "# experiment data\n",
    "for idx, path_val in enumerate(PATH_LIST, 1):\n",
    "    if idx == FIRST_IDX:\n",
    "        Rx_sig, angle = preprocessing_rx_sig(path=path_val, min_angle=MIN_ANGLE, \n",
    "                                             max_angle=MAX_ANGLE, resolution=RESOLUTION)\n",
    "    else:\n",
    "        Rx_sig_tmp, angle_tmp = preprocessing_rx_sig(path=path_val, min_angle=MIN_ANGLE, \n",
    "                                                     max_angle=MAX_ANGLE, resolution=RESOLUTION)\n",
    "        Rx_sig = np.concatenate((Rx_sig, Rx_sig_tmp))\n",
    "        angle = np.concatenate((angle, angle_tmp))\n",
    "\n",
    "# Simulation data\n",
    "if SIMULATION_INCLUDE:\n",
    "    Rx_sig_simul = np.load(f'./data/simul/total_output_COV_{RESOLUTION}_{MAX_ANGLE}.npy')\n",
    "    angle_simul  = np.load(f'./data/simul/total_output_angle_{RESOLUTION}_{MAX_ANGLE}.npy')\n",
    "    angle_simul = np.argmax(angle_simul, axis=1)\n",
    "\n",
    "    Rx_sig_simul /= np.max(Rx_sig_simul)    # normalization\n",
    "\n",
    "    # concatenate experiment with simulation\n",
    "    Rx_sig = np.concatenate((Rx_sig_simul, Rx_sig))\n",
    "    angle = np.concatenate((angle_simul, angle))\n",
    "\n",
    "# convert input shape - [real, imag, phase]\n",
    "x_test = np.array([[(np.real(Rxx)), (np.imag(Rxx)), (np.angle(Rxx))] for Rxx in Rx_sig])\n",
    "\n",
    "# print size\n",
    "print('x_test :', len(x_test))\n",
    "\n",
    "# dataloader로 변환\n",
    "test_set = RadarDataset(transform=torch.from_numpy, data=x_test, label=angle)\n",
    "test_loader = DataLoader(dataset=test_set, batch_size=BATCH_SIZE, shuffle = True)"
   ]
  },
  {
   "cell_type": "markdown",
   "metadata": {},
   "source": [
    "### 결과 확인 "
   ]
  },
  {
   "cell_type": "code",
   "execution_count": 10,
   "metadata": {},
   "outputs": [
    {
     "name": "stdout",
     "output_type": "stream",
     "text": [
      "89.0%\n"
     ]
    }
   ],
   "source": [
    "angle_range = torch.arange(MIN_ANGLE, MAX_ANGLE+1, RESOLUTION)\n",
    "TOLERANCE_ANGLE = 10\n",
    "ZERO_INDEX = NUM_CLASS // 2\n",
    "\n",
    "model.eval()\n",
    "with torch.no_grad():\n",
    "    sum_correct = 0\n",
    "    \n",
    "    for batch_idx, (x_test, y_test) in enumerate(test_loader, 1):\n",
    "        x_test = x_test.to(device)\n",
    "        real = y_test\n",
    "        outputs = model(x_test)\n",
    "    \n",
    "        # 조건 설정\n",
    "        outputs[outputs < 0.1] = 0                                         # 1. 0.1보다 작으면 죽이기\n",
    "        outputs[:, ZERO_INDEX][outputs[:, ZERO_INDEX] < 0.5] = 0           # 2. 0이 0.5보다 작으면 죽이기\n",
    "        pred = postprocessing(outputs, NUM_CLASS, RESOLUTION, MIN_ANGLE)   # 3. top1보다 그 이외의 값의 합이 더 크면 수정\n",
    "        \n",
    "        # 성능 평가\n",
    "        correct = np.sum(list(map(lambda x, y : np.abs(x-y) <= TOLERANCE_ANGLE, real, pred)))\n",
    "        sum_correct += correct\n",
    "        \n",
    "    print(f'{round(sum_correct / (batch_idx * BATCH_SIZE), 2) * 100}%')"
   ]
  }
 ],
 "metadata": {
  "kernelspec": {
   "display_name": "cuda",
   "language": "python",
   "name": "python3"
  },
  "language_info": {
   "codemirror_mode": {
    "name": "ipython",
    "version": 3
   },
   "file_extension": ".py",
   "mimetype": "text/x-python",
   "name": "python",
   "nbconvert_exporter": "python",
   "pygments_lexer": "ipython3",
   "version": "3.8.0"
  }
 },
 "nbformat": 4,
 "nbformat_minor": 2
}
